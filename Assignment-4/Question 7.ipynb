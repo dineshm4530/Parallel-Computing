{
  "nbformat": 4,
  "nbformat_minor": 0,
  "metadata": {
    "colab": {
      "name": "Question 7.ipynb",
      "provenance": []
    },
    "kernelspec": {
      "name": "python3",
      "display_name": "Python 3"
    },
    "accelerator": "GPU"
  },
  "cells": [
    {
      "cell_type": "code",
      "metadata": {
        "colab": {
          "base_uri": "https://localhost:8080/"
        },
        "id": "X8TiFRX862cJ",
        "outputId": "81659d7f-913d-4ed6-d3ba-56577456585d"
      },
      "source": [
        "!pip install git+git://github.com/andreinechaev/nvcc4jupyter.git"
      ],
      "execution_count": 1,
      "outputs": [
        {
          "output_type": "stream",
          "text": [
            "Collecting git+git://github.com/andreinechaev/nvcc4jupyter.git\n",
            "  Cloning git://github.com/andreinechaev/nvcc4jupyter.git to /tmp/pip-req-build-u2dm8o_4\n",
            "  Running command git clone -q git://github.com/andreinechaev/nvcc4jupyter.git /tmp/pip-req-build-u2dm8o_4\n",
            "Building wheels for collected packages: NVCCPlugin\n",
            "  Building wheel for NVCCPlugin (setup.py) ... \u001b[?25l\u001b[?25hdone\n",
            "  Created wheel for NVCCPlugin: filename=NVCCPlugin-0.0.2-cp36-none-any.whl size=4308 sha256=d2748f6f8e11993e669c063826ab7ef181e63353028580d5b5c9820902865db9\n",
            "  Stored in directory: /tmp/pip-ephem-wheel-cache-enw9um79/wheels/10/c2/05/ca241da37bff77d60d31a9174f988109c61ba989e4d4650516\n",
            "Successfully built NVCCPlugin\n",
            "Installing collected packages: NVCCPlugin\n",
            "Successfully installed NVCCPlugin-0.0.2\n"
          ],
          "name": "stdout"
        }
      ]
    },
    {
      "cell_type": "code",
      "metadata": {
        "colab": {
          "base_uri": "https://localhost:8080/"
        },
        "id": "VDTD8zDP8JA3",
        "outputId": "ad737d89-d2d5-4158-e94e-1eb9a8bdb8d4"
      },
      "source": [
        "%load_ext nvcc_plugin"
      ],
      "execution_count": 2,
      "outputs": [
        {
          "output_type": "stream",
          "text": [
            "created output directory at /content/src\n",
            "Out bin /content/result.out\n"
          ],
          "name": "stdout"
        }
      ]
    },
    {
      "cell_type": "markdown",
      "metadata": {
        "id": "8pqiDjPs8Mkv"
      },
      "source": [
        "#### Question 7"
      ]
    },
    {
      "cell_type": "code",
      "metadata": {
        "colab": {
          "base_uri": "https://localhost:8080/"
        },
        "id": "KT7K-tEiAHeA",
        "outputId": "4429fdea-47d9-4b6d-8e2f-a6679740af6c"
      },
      "source": [
        "%%cu\r\n",
        "#include<stdio.h>\r\n",
        "#include<stdlib.h>\r\n",
        "#include <iostream>\r\n",
        "#include <iterator>\r\n",
        "#include<thrust/host_vector.h>\r\n",
        "#include<thrust/device_vector.h>\r\n",
        "#include<thrust/generate.h>\r\n",
        "#include<thrust/sort.h>\r\n",
        "\r\n",
        "using namespace std;\r\n",
        "int main()\r\n",
        "{\r\n",
        "    thrust::host_vector<int> v(8);\r\n",
        "    thrust::generate(v.begin(),v.end(),rand);\r\n",
        "   cerr << \"Before sorting : \" <<endl;\r\n",
        "    thrust::copy(v.begin(), v.end(), ostream_iterator<int>(cerr,\"\\n\") );\r\n",
        "    printf(\"\\n\");\r\n",
        " \r\n",
        "    thrust::device_vector<int> device_v=v;\r\n",
        "    thrust::sort(device_v.begin(),device_v.end());\r\n",
        "    thrust::copy(device_v.begin(),device_v.end(),v.begin());\r\n",
        " printf(\"After sorting: \\n\");\r\n",
        "    for(auto x:v)\r\n",
        "      printf(\"%d \\n\",x);\r\n",
        "    return 0;\r\n",
        "}"
      ],
      "execution_count": 24,
      "outputs": [
        {
          "output_type": "stream",
          "text": [
            "Before sorting : \n",
            "1804289383\n",
            "846930886\n",
            "1681692777\n",
            "1714636915\n",
            "1957747793\n",
            "424238335\n",
            "719885386\n",
            "1649760492\n",
            "\n",
            "After sorting: \n",
            "424238335 \n",
            "719885386 \n",
            "846930886 \n",
            "1649760492 \n",
            "1681692777 \n",
            "1714636915 \n",
            "1804289383 \n",
            "1957747793 \n",
            "\n"
          ],
          "name": "stdout"
        }
      ]
    }
  ]
}