{
  "nbformat": 4,
  "nbformat_minor": 0,
  "metadata": {
    "colab": {
      "name": "Question 1, 2 and 3.ipynb",
      "provenance": []
    },
    "kernelspec": {
      "name": "python3",
      "display_name": "Python 3"
    },
    "accelerator": "GPU"
  },
  "cells": [
    {
      "cell_type": "code",
      "metadata": {
        "colab": {
          "base_uri": "https://localhost:8080/"
        },
        "id": "tHg2YgJavxVd",
        "outputId": "86216faf-0855-41c4-d236-ba64d23b3122"
      },
      "source": [
        "!pip install git+git://github.com/andreinechaev/nvcc4jupyter.git"
      ],
      "execution_count": 1,
      "outputs": [
        {
          "output_type": "stream",
          "text": [
            "Collecting git+git://github.com/andreinechaev/nvcc4jupyter.git\n",
            "  Cloning git://github.com/andreinechaev/nvcc4jupyter.git to /tmp/pip-req-build-dltm8stp\n",
            "  Running command git clone -q git://github.com/andreinechaev/nvcc4jupyter.git /tmp/pip-req-build-dltm8stp\n",
            "Building wheels for collected packages: NVCCPlugin\n",
            "  Building wheel for NVCCPlugin (setup.py) ... \u001b[?25l\u001b[?25hdone\n",
            "  Created wheel for NVCCPlugin: filename=NVCCPlugin-0.0.2-cp36-none-any.whl size=4308 sha256=195b08e186a5b2573a2384ddf5fff872479a23e69f2c786da5af2558b6df7923\n",
            "  Stored in directory: /tmp/pip-ephem-wheel-cache-quosohie/wheels/10/c2/05/ca241da37bff77d60d31a9174f988109c61ba989e4d4650516\n",
            "Successfully built NVCCPlugin\n",
            "Installing collected packages: NVCCPlugin\n",
            "Successfully installed NVCCPlugin-0.0.2\n"
          ],
          "name": "stdout"
        }
      ]
    },
    {
      "cell_type": "code",
      "metadata": {
        "colab": {
          "base_uri": "https://localhost:8080/"
        },
        "id": "MKvr2vV5v6Vv",
        "outputId": "db99b3b2-b631-47dd-e036-e5e381fdd5d3"
      },
      "source": [
        "%load_ext nvcc_plugin"
      ],
      "execution_count": 2,
      "outputs": [
        {
          "output_type": "stream",
          "text": [
            "created output directory at /content/src\n",
            "Out bin /content/result.out\n"
          ],
          "name": "stdout"
        }
      ]
    },
    {
      "cell_type": "markdown",
      "metadata": {
        "id": "vzLE8qOSwQhq"
      },
      "source": [
        "#### Question 1"
      ]
    },
    {
      "cell_type": "code",
      "metadata": {
        "colab": {
          "base_uri": "https://localhost:8080/"
        },
        "id": "DpUOR_D9v9Gy",
        "outputId": "27800e9f-f618-49a2-dc71-09a54e5dd7af"
      },
      "source": [
        "%%cu\r\n",
        "#include <stdio.h>\r\n",
        "#include <stdlib.h>\r\n",
        "__managed__ int sum=0;\r\n",
        "__global__ void add(int *arr,int *n)\r\n",
        "{\r\n",
        "    int th = threadIdx.x;\r\n",
        "    if(th < *n)\r\n",
        "      atomicAdd(&sum,arr[th]);\r\n",
        "}\r\n",
        "\r\n",
        "int main()\r\n",
        "{\r\n",
        "    int n=8;\r\n",
        "    int arr[n];\r\n",
        "    int *d_arr,*d_n;\r\n",
        " \r\n",
        "    for( int i=0;i<n;i++)\r\n",
        "    {\r\n",
        "        arr[i]=rand()%100;\r\n",
        "        printf(\"%d \",arr[i]);\r\n",
        "    }\r\n",
        "    printf(\"\\n\");\r\n",
        "\r\n",
        "    cudaMalloc((void**)&d_arr,n*sizeof(int));\r\n",
        "    cudaMalloc((void**)&d_n,sizeof(int));\r\n",
        "    \r\n",
        "    cudaMemcpy(d_arr,arr,n*sizeof(int),cudaMemcpyHostToDevice);\r\n",
        "    cudaMemcpy(d_n,&n,sizeof(int),cudaMemcpyHostToDevice);\r\n",
        "    add <<<1,n>>>(d_arr,d_n);\r\n",
        "    printf(\"Sum:%d\\n\",sum);\r\n",
        "    cudaFree(d_arr);\r\n",
        "    cudaFree(d_n);\r\n",
        "    return 0;\r\n",
        "}"
      ],
      "execution_count": 8,
      "outputs": [
        {
          "output_type": "stream",
          "text": [
            "83 86 77 15 93 35 86 92 \n",
            "Sum:567\n",
            "\n"
          ],
          "name": "stdout"
        }
      ]
    },
    {
      "cell_type": "markdown",
      "metadata": {
        "id": "HOaKc0khz6ea"
      },
      "source": [
        "#### Question 2"
      ]
    },
    {
      "cell_type": "code",
      "metadata": {
        "colab": {
          "base_uri": "https://localhost:8080/"
        },
        "id": "2C6ZbeN90BEW",
        "outputId": "20995e2c-af74-4ee1-8d6c-176f0a88b8d2"
      },
      "source": [
        "%%cu\r\n",
        "#include <stdio.h>\r\n",
        "#include <stdlib.h>\r\n",
        "\r\n",
        "__global__ void add(int *a,int *b,int *c,int *n)\r\n",
        "{\r\n",
        "    unsigned short th =threadIdx.x;\r\n",
        "    if(th < *n)\r\n",
        "      c[th] = a[th]+b[th];\r\n",
        "}\r\n",
        "\r\n",
        "int main()\r\n",
        "{\r\n",
        "    int n=8;\r\n",
        "    int a[n],b[n],c[n];\r\n",
        "    int *d_a,*d_b,*d_c,*d_n;\r\n",
        " \r\n",
        "    for(int i=0;i<n;i++)\r\n",
        "      a[i]=rand()%100;\r\n",
        "    for(int i=0;i<n;i++)\r\n",
        "      b[i]=rand()%100;\r\n",
        "\r\n",
        "    cudaMalloc((void**)&d_a,n*sizeof(int));\r\n",
        "    cudaMalloc((void**)&d_b,n*sizeof(int));\r\n",
        "    cudaMalloc((void**)&d_c,n*sizeof(int));\r\n",
        "    cudaMalloc((void**)&d_n,sizeof(int));\r\n",
        "    \r\n",
        "    cudaMemcpy(d_a,a,n*sizeof(int),cudaMemcpyHostToDevice);\r\n",
        "    cudaMemcpy(d_b,b,n*sizeof(int),cudaMemcpyHostToDevice);\r\n",
        "    cudaMemcpy(d_n,&n,sizeof(int),cudaMemcpyHostToDevice);\r\n",
        " \r\n",
        "    add <<<1,n>>>(d_a,d_b,d_c,d_n);\r\n",
        "    cudaMemcpy(c,d_c,n*sizeof(int),cudaMemcpyDeviceToHost);\r\n",
        " \r\n",
        "    for( int i=0;i<n;i++)\r\n",
        "    printf(\"%d + %d = %d\\n\",a[i],b[i],c[i]);\r\n",
        " \r\n",
        "    cudaFree(d_a);\r\n",
        "    cudaFree(d_b);\r\n",
        "    cudaFree(d_c);\r\n",
        "    cudaFree(d_n);\r\n",
        "    return 0;\r\n",
        "}"
      ],
      "execution_count": 12,
      "outputs": [
        {
          "output_type": "stream",
          "text": [
            "83 + 49 = 132\n",
            "86 + 21 = 107\n",
            "77 + 62 = 139\n",
            "15 + 27 = 42\n",
            "93 + 90 = 183\n",
            "35 + 59 = 94\n",
            "86 + 63 = 149\n",
            "92 + 26 = 118\n",
            "\n"
          ],
          "name": "stdout"
        }
      ]
    },
    {
      "cell_type": "markdown",
      "metadata": {
        "id": "qaEeZPv44cgP"
      },
      "source": [
        "#### Question 3"
      ]
    },
    {
      "cell_type": "code",
      "metadata": {
        "colab": {
          "base_uri": "https://localhost:8080/"
        },
        "id": "JQfakGkm4hK-",
        "outputId": "d51580ca-e256-414c-f679-ed884ce0d9ce"
      },
      "source": [
        "%%cu\r\n",
        "#include <stdio.h>\r\n",
        "#include <stdlib.h>\r\n",
        "\r\n",
        "__global__ void mult(int *a,int *b,int *c,int *m,int *n,int *p)\r\n",
        "{\r\n",
        "    int row=blockIdx.x*blockDim.x+threadIdx.x;\r\n",
        "    int col=blockIdx.y*blockDim.y+threadIdx.y;\r\n",
        "    \r\n",
        "    int t=0;\r\n",
        "    if(row<*m && col<*p)\r\n",
        "    for(int i=0;i<*n;i++)\r\n",
        "      t= t + a[row*(*n)+i] * b[i*(*p)+col];\r\n",
        "    c[row*(*p)+col] = t;\r\n",
        "}\r\n",
        "\r\n",
        "int main()\r\n",
        "{\r\n",
        "    int i,j;\r\n",
        "    int m=2,n=2,p=2;\r\n",
        "\r\n",
        "    int a[m*n],b[n*p],c[m*n];\r\n",
        "    int *d_a,*d_b,*d_c,*d_m,*d_n,*d_p;\r\n",
        "    printf(\"Matrix A:\\n\");\r\n",
        "    for(i=0;i<m;i++)\r\n",
        "    {\r\n",
        "        for(j=0;j<n;j++)\r\n",
        "        {\r\n",
        "            a[i*n+j]=rand()%100;\r\n",
        "            printf(\"%d \",a[i*n+j]);       \r\n",
        "        }\r\n",
        "        printf(\"\\n\");\r\n",
        "    }\r\n",
        "    printf(\"Matrix B:\\n\");\r\n",
        "    for(i=0;i<n;i++)\r\n",
        "    {\r\n",
        "        for(j=0;j<p;j++)\r\n",
        "        {\r\n",
        "            b[i*p+j]=rand()%100;\r\n",
        "            printf(\"%d \",b[i*p+j]);       \r\n",
        "        }\r\n",
        "        printf(\"\\n\");\r\n",
        "    }\r\n",
        "    printf(\"\\n\");\r\n",
        "\r\n",
        "    cudaMalloc((void**)&d_a,m*n*sizeof(int));\r\n",
        "    cudaMalloc((void**)&d_b,n*p*sizeof(int));\r\n",
        "    cudaMalloc((void**)&d_c,m*p*sizeof(int));\r\n",
        "    cudaMalloc((void**)&d_m,sizeof(int));\r\n",
        "    cudaMalloc((void**)&d_n,sizeof(int));\r\n",
        "    cudaMalloc((void**)&d_p,sizeof(int));\r\n",
        "\r\n",
        "    cudaMemcpy(d_a,a,m*n*sizeof(int),cudaMemcpyHostToDevice);\r\n",
        "    cudaMemcpy(d_b,b,n*p*sizeof(int),cudaMemcpyHostToDevice);\r\n",
        "    cudaMemcpy(d_m,&m,sizeof(int),cudaMemcpyHostToDevice);\r\n",
        "    cudaMemcpy(d_n,&n,sizeof(int),cudaMemcpyHostToDevice);\r\n",
        "    cudaMemcpy(d_p,&p,sizeof(int),cudaMemcpyHostToDevice);\r\n",
        " \r\n",
        "    dim3 threadsPerBlock(m,p);\r\n",
        "    dim3 blocksPerGrid(1,1);\r\n",
        "        \r\n",
        "\r\n",
        "    mult<<<blocksPerGrid,threadsPerBlock>>> (d_a,d_b,d_c,d_m,d_n,d_p);   \r\n",
        "\r\n",
        "    cudaMemcpy(c,d_c,m*p*sizeof(int),cudaMemcpyDeviceToHost);\r\n",
        "    printf(\"multiply two matrices:  \\n\");\r\n",
        "    for(i=0;i<m;i++)\r\n",
        "    {\r\n",
        "        for(j=0;j<p;j++)\r\n",
        "        {\r\n",
        "            printf(\"%d \",c[i*p+j]);       \r\n",
        "        }\r\n",
        "        printf(\"\\n\");\r\n",
        "    }\r\n",
        "    cudaFree(d_a);\r\n",
        "    cudaFree(d_b);\r\n",
        "    cudaFree(d_c);\r\n",
        "    cudaFree(d_m);\r\n",
        "    cudaFree(d_n);\r\n",
        "    cudaFree(d_p);\r\n",
        "    return 0;\r\n",
        "}"
      ],
      "execution_count": 17,
      "outputs": [
        {
          "output_type": "stream",
          "text": [
            "Matrix A:\n",
            "83 86 \n",
            "77 15 \n",
            "Matrix B:\n",
            "93 35 \n",
            "86 92 \n",
            "\n",
            "multiply two matrices:  \n",
            "15115 10817 \n",
            "8451 4075 \n",
            "\n"
          ],
          "name": "stdout"
        }
      ]
    }
  ]
}